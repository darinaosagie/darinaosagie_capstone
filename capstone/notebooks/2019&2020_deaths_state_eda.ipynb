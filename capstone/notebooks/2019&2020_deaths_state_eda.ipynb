{
 "cells": [
  {
   "cell_type": "code",
   "execution_count": 1,
   "id": "dd8fdd96",
   "metadata": {},
   "outputs": [],
   "source": [
    "import pandas as pd\n",
    "import regex as re\n",
    "import matplotlib.pyplot as plt\n",
    "import seaborn as sns\n",
    "import datetime as dt"
   ]
  },
  {
   "cell_type": "code",
   "execution_count": 2,
   "id": "a89b22e4",
   "metadata": {},
   "outputs": [],
   "source": [
    "## reading in county od for 2019 and 2020 for entire state\n",
    "combined_state2019_2020=pd.read_csv(r'C:\\Users\\darin\\Documents\\NSS\\darina_capstone\\capstone\\data\\2019.2020state_od_final.csv')\n"
   ]
  },
  {
   "cell_type": "code",
   "execution_count": 4,
   "id": "cb96f2a7",
   "metadata": {},
   "outputs": [],
   "source": [
    "## dropping geography and geogrpahy type \n",
    "combined_state2019_2020 = combined_state2019_2020.drop(['Geography', 'Geography Type'], axis=1)"
   ]
  },
  {
   "cell_type": "code",
   "execution_count": 5,
   "id": "4166839c",
   "metadata": {},
   "outputs": [
    {
     "data": {
      "text/html": [
       "<div>\n",
       "<style scoped>\n",
       "    .dataframe tbody tr th:only-of-type {\n",
       "        vertical-align: middle;\n",
       "    }\n",
       "\n",
       "    .dataframe tbody tr th {\n",
       "        vertical-align: top;\n",
       "    }\n",
       "\n",
       "    .dataframe thead th {\n",
       "        text-align: right;\n",
       "    }\n",
       "</style>\n",
       "<table border=\"1\" class=\"dataframe\">\n",
       "  <thead>\n",
       "    <tr style=\"text-align: right;\">\n",
       "      <th></th>\n",
       "      <th>Year</th>\n",
       "      <th>Type of Overdose</th>\n",
       "      <th>Total Number of Deaths</th>\n",
       "    </tr>\n",
       "  </thead>\n",
       "  <tbody>\n",
       "    <tr>\n",
       "      <th>0</th>\n",
       "      <td>2020</td>\n",
       "      <td>Involving All Opioids</td>\n",
       "      <td>16429</td>\n",
       "    </tr>\n",
       "    <tr>\n",
       "      <th>1</th>\n",
       "      <td>2020</td>\n",
       "      <td>Involving All Opioids and Benzodiazepines</td>\n",
       "      <td>17655</td>\n",
       "    </tr>\n",
       "    <tr>\n",
       "      <th>2</th>\n",
       "      <td>2020</td>\n",
       "      <td>Involving Opioids and Any Stimulant</td>\n",
       "      <td>972</td>\n",
       "    </tr>\n",
       "    <tr>\n",
       "      <th>3</th>\n",
       "      <td>2020</td>\n",
       "      <td>Involving Prescription Opioids</td>\n",
       "      <td>14055</td>\n",
       "    </tr>\n",
       "    <tr>\n",
       "      <th>4</th>\n",
       "      <td>2019</td>\n",
       "      <td>Involving All Opioids</td>\n",
       "      <td>11049</td>\n",
       "    </tr>\n",
       "    <tr>\n",
       "      <th>5</th>\n",
       "      <td>2019</td>\n",
       "      <td>Involving All Opioids and Benzodiazepines</td>\n",
       "      <td>11821</td>\n",
       "    </tr>\n",
       "    <tr>\n",
       "      <th>6</th>\n",
       "      <td>2019</td>\n",
       "      <td>Involving Opioids and Any Stimulant</td>\n",
       "      <td>11050</td>\n",
       "    </tr>\n",
       "    <tr>\n",
       "      <th>7</th>\n",
       "      <td>2019</td>\n",
       "      <td>Involving Prescription Opioids</td>\n",
       "      <td>9525</td>\n",
       "    </tr>\n",
       "  </tbody>\n",
       "</table>\n",
       "</div>"
      ],
      "text/plain": [
       "   Year                           Type of Overdose  Total Number of Deaths\n",
       "0  2020                      Involving All Opioids                   16429\n",
       "1  2020  Involving All Opioids and Benzodiazepines                   17655\n",
       "2  2020        Involving Opioids and Any Stimulant                     972\n",
       "3  2020             Involving Prescription Opioids                   14055\n",
       "4  2019                      Involving All Opioids                   11049\n",
       "5  2019  Involving All Opioids and Benzodiazepines                   11821\n",
       "6  2019        Involving Opioids and Any Stimulant                   11050\n",
       "7  2019             Involving Prescription Opioids                    9525"
      ]
     },
     "execution_count": 5,
     "metadata": {},
     "output_type": "execute_result"
    }
   ],
   "source": [
    "combined_state2019_2020"
   ]
  },
  {
   "cell_type": "code",
   "execution_count": 6,
   "id": "a54aa684",
   "metadata": {},
   "outputs": [],
   "source": [
    "## making combined_state2019_2020 dataframe into a csv\n",
    "combined_state2019_2020.to_csv(r'C:\\Users\\darin\\Documents\\NSS\\darina_capstone\\capstone\\data\\combined_state2019_2020.csv', index = None, header=True)"
   ]
  },
  {
   "cell_type": "code",
   "execution_count": 9,
   "id": "5d11df18",
   "metadata": {},
   "outputs": [
    {
     "data": {
      "text/html": [
       "<div>\n",
       "<style scoped>\n",
       "    .dataframe tbody tr th:only-of-type {\n",
       "        vertical-align: middle;\n",
       "    }\n",
       "\n",
       "    .dataframe tbody tr th {\n",
       "        vertical-align: top;\n",
       "    }\n",
       "\n",
       "    .dataframe thead th {\n",
       "        text-align: right;\n",
       "    }\n",
       "</style>\n",
       "<table border=\"1\" class=\"dataframe\">\n",
       "  <thead>\n",
       "    <tr style=\"text-align: right;\">\n",
       "      <th></th>\n",
       "      <th>Year</th>\n",
       "      <th>Type of Overdose</th>\n",
       "      <th>Total Number of Deaths</th>\n",
       "    </tr>\n",
       "  </thead>\n",
       "  <tbody>\n",
       "    <tr>\n",
       "      <th>4</th>\n",
       "      <td>2019</td>\n",
       "      <td>Involving All Opioids</td>\n",
       "      <td>11049</td>\n",
       "    </tr>\n",
       "    <tr>\n",
       "      <th>5</th>\n",
       "      <td>2019</td>\n",
       "      <td>Involving All Opioids and Benzodiazepines</td>\n",
       "      <td>11821</td>\n",
       "    </tr>\n",
       "    <tr>\n",
       "      <th>6</th>\n",
       "      <td>2019</td>\n",
       "      <td>Involving Opioids and Any Stimulant</td>\n",
       "      <td>11050</td>\n",
       "    </tr>\n",
       "    <tr>\n",
       "      <th>7</th>\n",
       "      <td>2019</td>\n",
       "      <td>Involving Prescription Opioids</td>\n",
       "      <td>9525</td>\n",
       "    </tr>\n",
       "  </tbody>\n",
       "</table>\n",
       "</div>"
      ],
      "text/plain": [
       "   Year                           Type of Overdose  Total Number of Deaths\n",
       "4  2019                      Involving All Opioids                   11049\n",
       "5  2019  Involving All Opioids and Benzodiazepines                   11821\n",
       "6  2019        Involving Opioids and Any Stimulant                   11050\n",
       "7  2019             Involving Prescription Opioids                    9525"
      ]
     },
     "execution_count": 9,
     "metadata": {},
     "output_type": "execute_result"
    }
   ],
   "source": [
    "## creating a a dataframe specifically for 2019\n",
    "state2019 =combined_state2019_2020.loc[combined_state2019_2020.Year==2019]\n",
    "state2019"
   ]
  },
  {
   "cell_type": "code",
   "execution_count": 10,
   "id": "e3e162cb",
   "metadata": {},
   "outputs": [],
   "source": [
    "## making stateod 2019 into a csv\n",
    "state2019.to_csv(r'C:\\Users\\darin\\Documents\\NSS\\darina_capstone\\capstone\\data\\state2019.csv', index = None, header=True)"
   ]
  },
  {
   "cell_type": "code",
   "execution_count": 12,
   "id": "b223fb5e",
   "metadata": {},
   "outputs": [
    {
     "data": {
      "text/html": [
       "<div>\n",
       "<style scoped>\n",
       "    .dataframe tbody tr th:only-of-type {\n",
       "        vertical-align: middle;\n",
       "    }\n",
       "\n",
       "    .dataframe tbody tr th {\n",
       "        vertical-align: top;\n",
       "    }\n",
       "\n",
       "    .dataframe thead th {\n",
       "        text-align: right;\n",
       "    }\n",
       "</style>\n",
       "<table border=\"1\" class=\"dataframe\">\n",
       "  <thead>\n",
       "    <tr style=\"text-align: right;\">\n",
       "      <th></th>\n",
       "      <th>Year</th>\n",
       "      <th>Type of Overdose</th>\n",
       "      <th>Total Number of Deaths</th>\n",
       "    </tr>\n",
       "  </thead>\n",
       "  <tbody>\n",
       "    <tr>\n",
       "      <th>0</th>\n",
       "      <td>2020</td>\n",
       "      <td>Involving All Opioids</td>\n",
       "      <td>16429</td>\n",
       "    </tr>\n",
       "    <tr>\n",
       "      <th>1</th>\n",
       "      <td>2020</td>\n",
       "      <td>Involving All Opioids and Benzodiazepines</td>\n",
       "      <td>17655</td>\n",
       "    </tr>\n",
       "    <tr>\n",
       "      <th>2</th>\n",
       "      <td>2020</td>\n",
       "      <td>Involving Opioids and Any Stimulant</td>\n",
       "      <td>972</td>\n",
       "    </tr>\n",
       "    <tr>\n",
       "      <th>3</th>\n",
       "      <td>2020</td>\n",
       "      <td>Involving Prescription Opioids</td>\n",
       "      <td>14055</td>\n",
       "    </tr>\n",
       "  </tbody>\n",
       "</table>\n",
       "</div>"
      ],
      "text/plain": [
       "   Year                           Type of Overdose  Total Number of Deaths\n",
       "0  2020                      Involving All Opioids                   16429\n",
       "1  2020  Involving All Opioids and Benzodiazepines                   17655\n",
       "2  2020        Involving Opioids and Any Stimulant                     972\n",
       "3  2020             Involving Prescription Opioids                   14055"
      ]
     },
     "execution_count": 12,
     "metadata": {},
     "output_type": "execute_result"
    }
   ],
   "source": [
    "## creating a a dataframe specifically for 2020\n",
    "state2020 =combined_state2019_2020.loc[combined_state2019_2020.Year==2020]\n",
    "state2020"
   ]
  },
  {
   "cell_type": "code",
   "execution_count": 13,
   "id": "dc52e786",
   "metadata": {},
   "outputs": [],
   "source": [
    "## making stateod 2019 into a csv\n",
    "state2020.to_csv(r'C:\\Users\\darin\\Documents\\NSS\\darina_capstone\\capstone\\data\\state2020.csv', index = None, header=True)"
   ]
  },
  {
   "cell_type": "code",
   "execution_count": null,
   "id": "e743c51f",
   "metadata": {},
   "outputs": [],
   "source": []
  },
  {
   "cell_type": "code",
   "execution_count": null,
   "id": "c5c940ee",
   "metadata": {},
   "outputs": [],
   "source": []
  },
  {
   "cell_type": "code",
   "execution_count": null,
   "id": "33a957af",
   "metadata": {},
   "outputs": [],
   "source": []
  },
  {
   "cell_type": "code",
   "execution_count": null,
   "id": "943d2621",
   "metadata": {},
   "outputs": [],
   "source": []
  }
 ],
 "metadata": {
  "kernelspec": {
   "display_name": "Python 3 (ipykernel)",
   "language": "python",
   "name": "python3"
  },
  "language_info": {
   "codemirror_mode": {
    "name": "ipython",
    "version": 3
   },
   "file_extension": ".py",
   "mimetype": "text/x-python",
   "name": "python",
   "nbconvert_exporter": "python",
   "pygments_lexer": "ipython3",
   "version": "3.10.9"
  }
 },
 "nbformat": 4,
 "nbformat_minor": 5
}
